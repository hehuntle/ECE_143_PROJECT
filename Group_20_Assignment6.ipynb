{
  "nbformat": 4,
  "nbformat_minor": 0,
  "metadata": {
    "kernelspec": {
      "display_name": "Python 3",
      "language": "python",
      "name": "python3"
    },
    "language_info": {
      "codemirror_mode": {
        "name": "ipython",
        "version": 3
      },
      "file_extension": ".py",
      "mimetype": "text/x-python",
      "name": "python",
      "nbconvert_exporter": "python",
      "pygments_lexer": "ipython3",
      "version": "3.9.0"
    },
    "colab": {
      "name": "Group20_Assignment6.ipynb",
      "provenance": [],
      "collapsed_sections": [],
      "toc_visible": true
    }
  },
  "cells": [
    {
      "cell_type": "markdown",
      "metadata": {
        "id": "cvT14ubICSaE"
      },
      "source": [
        "# Chunkify\n",
        "\n",
        "You have a file that needs to be divided into n chunks. While it would be straightforward to split the file into equal-bytes sizes and then write those chunks to file, you cannot write any incomplete lines to the files. This means that all of the n files that you create must have no truncated lines. If a split of a certain byte-size would result in a truncated line, then you can back off and only write the previous complete line. You can save the rest of it for the next chunk.\n"
      ]
    },
    {
      "cell_type": "markdown",
      "metadata": {
        "id": "pp_iHvUFCSaK"
      },
      "source": [
        "**Validation Tests** <br>\n",
        "Check for corner cases and constraints in the inputs enlist all cases used for testing"
      ]
    },
    {
      "cell_type": "code",
      "metadata": {
        "id": "7cX-xMK5CSaL"
      },
      "source": [
        "assert isinstance(fname,str) # file name should be string\n",
        "assert isinstance(n,int) # number of segments should be integer\n",
        "assert 0< n # number of segments should be greater than 0"
      ],
      "execution_count": null,
      "outputs": []
    },
    {
      "cell_type": "markdown",
      "metadata": {
        "id": "raOvJA8xCSaL"
      },
      "source": [
        "**Functional Tests** <br>\n",
        "Check function output matches expected result enlist all cases used for testing"
      ]
    },
    {
      "cell_type": "code",
      "metadata": {
        "id": "oZMJ5CM4CSaM"
      },
      "source": [
        "import os, math\n",
        "\n",
        "\n",
        "def chunkify_test(name, n):\n",
        "    '''\n",
        "    Verify if chunkify program is working correctly\n",
        "    :param name: name of original file\n",
        "    :param n: number of splits\n",
        "    :return: None\n",
        "    '''\n",
        "    split_by_n(name, n) # chunkify function\n",
        "    f_orig = open(name, 'r')  # read original file\n",
        "    val = f_orig.readlines()\n",
        "    max_lines = len(val)  # total number of lines in original file\n",
        "    count = 0  # current line to read from original file content\n",
        "    avg_file_size = os.stat(name).st_size/n # average chunk size\n",
        "    avg_line_len = math.ceil((avg_file_size*n)/max_lines) # average line length\n",
        "    i = 0\n",
        "    while True:\n",
        "        if not os.path.exists(name + '_' + format(i, '03d') + '.txt'):\n",
        "            if i == n:\n",
        "                break\n",
        "            else:\n",
        "                assert False  # check for less number of split files\n",
        "        assert i <= n  # check for more number of split files\n",
        "        assert avg_file_size - 2*avg_line_len <= os.stat(name + '_' + format(i, '03d') + '.txt').st_size <= avg_file_size + 2*avg_line_len\n",
        "        f = open(name + '_' + format(i, '03d') + '.txt', 'r')\n",
        "        line = f.readline()\n",
        "        while (line):\n",
        "            assert count < max_lines  # check if excess is written in split file\n",
        "            assert line == val[count]  # compare split file content with original file\n",
        "            count += 1\n",
        "            line = f.readline()\n",
        "        i += 1\n",
        "\n",
        "    assert count == max_lines  # check if all lines of original file are covered\n",
        "\n",
        "name = 'pg5200.txt'\n",
        "\n",
        "n = 3\n",
        "chunkify_test(name, n)\n",
        "\n",
        "n = 5\n",
        "chunkify_test(name, n)\n",
        "\n",
        "n = 8\n",
        "chunkify_test(name, n)"
      ],
      "execution_count": null,
      "outputs": []
    },
    {
      "cell_type": "markdown",
      "metadata": {
        "id": "BUyornTV_iXO"
      },
      "source": [
        "# Encrypted sentence\r\n",
        "We will implement a very simple encryption scheme that closely resembles the one-time-pad. You have probably seen this method used in movies like Unknown. The idea is that you and your counterparty share a book whose words you will use as the raw material for a codebook. In this case, you need Metamorphosis, by Franz Kafka.\r\n",
        "\r\n",
        "Your job is to create a codebook of 2-tuples that map to specific words in the given text based on the line and position the words appears in the text. The text is very long so there will be duplicated words. Strip out all of the punctuation and make everything lowercase."
      ]
    },
    {
      "cell_type": "markdown",
      "metadata": {
        "id": "-ZK5l-Gs4RLF"
      },
      "source": [
        "**Validation Tests**"
      ]
    },
    {
      "cell_type": "code",
      "metadata": {
        "id": "BwqPxHom7Vpy"
      },
      "source": [
        "# validation check for encrypt_message function\r\n",
        "assert isinstance(message, str) # check if message is a string\r\n",
        "assert isinstance(fname, str) # check if file name is string\r\n",
        "\r\n",
        "\r\n",
        "# validation check for decrypt_message function\r\n",
        "assert isinstance(inlist, list) # check if encrypted message is a list\r\n",
        "for i in inlist:\r\n",
        "    assert isinstance(i,tuple) # checking if each encrypted word is tuple\r\n",
        "assert isinstance(fname, str) # check if file name is string\r\n",
        "assert len(inlist) > 0 # check if encrypted message length > 0"
      ],
      "execution_count": null,
      "outputs": []
    },
    {
      "cell_type": "code",
      "metadata": {
        "id": "_H6XrQ00iy7k"
      },
      "source": [
        "def encrypt_test(fname, encrypt, message):\n",
        "    '''\n",
        "    Check if encrypted message is valid\n",
        "    :param fname: file name to create codebook\n",
        "    :param encrypt: encrypted message\n",
        "    :param message: orignal message to encrypt\n",
        "    :return: None\n",
        "    '''\n",
        "    assert len(encrypt) == len(set(encrypt)) # check for uniqueness of encryption\n",
        "    # create a dictionary with key as tuple of word position and value as the word\n",
        "    table = str.maketrans(dict.fromkeys(string.punctuation))\n",
        "    line_nos = -1\n",
        "    lookup = defaultdict(str)\n",
        "    with open(fname) as f:\n",
        "        line = f.readline()\n",
        "        while line:\n",
        "            line_nos += 1\n",
        "            line = line.strip()\n",
        "            # removing punctuation\n",
        "            line = line.translate(table)\n",
        "            l = line.split(\" \")\n",
        "            for idx, i in enumerate(l):\n",
        "                lookup[(line_nos, idx)] = i.lower()\n",
        "            line = f.readline()\n",
        "\n",
        "    m = message.split(\" \")\n",
        "    # checking if encryption is correct\n",
        "    for idx, i in enumerate(encrypt):\n",
        "        assert lookup[i] == m[idx]\n",
        "\n",
        "def decrypt_test(decrypt,message):\n",
        "  \n",
        "    # checking to see if the input of encrypt message matches the output of decrypt message. \n",
        "    assert decrypt == message\n",
        "\n",
        "def check_for_more_occurences(message, fname):\n",
        "    '''\n",
        "    Assert for more occurences of a word in a message than in the codebook \n",
        "    :param message: message to encrypt\n",
        "    :param fname: codebook\n",
        "    :return: None\n",
        "    '''\n",
        "    try:\n",
        "        # try encrypting the message. Should throw error\n",
        "        encrypt_message(message, fname)\n",
        "    except AssertionError:\n",
        "        # expected error is thrown\n",
        "        pass\n",
        "    else:\n",
        "        # assert false since error not thrown\n",
        "        assert False"
      ],
      "execution_count": null,
      "outputs": []
    },
    {
      "cell_type": "markdown",
      "metadata": {
        "id": "KrGvEje74Wig"
      },
      "source": [
        "**Functional Tests**"
      ]
    },
    {
      "cell_type": "code",
      "metadata": {
        "id": "FttbXGln7YRR"
      },
      "source": [
        "fname = 'pg5200.txt'\r\n",
        "message = 'we are going to the lets'\r\n",
        "# encrypting the message\r\n",
        "enc_x = encrypt_message(message,fname)\r\n",
        "# functional test for encryption\r\n",
        "encrypt_test(fname,enc_x,message)\r\n",
        "# decrypting the message\r\n",
        "enc_y = decrypt_message(x, fname)\r\n",
        "# functional test for decryption\r\n",
        "decrypt_test(enc_y,message)\r\n",
        "\r\n",
        "message = 'let us not say we met late at the night about the secret'\r\n",
        "# encrypting the message\r\n",
        "enc_x = encrypt_message(message,fname)\r\n",
        "# functional test for encryption\r\n",
        "encrypt_test(fname,enc_x,message)\r\n",
        "# decrypting the message\r\n",
        "enc_y = decrypt_message(x, fname)\r\n",
        "# functional test for decryption\r\n",
        "decrypt_test(enc_y,message)\r\n",
        "\r\n",
        "# message which has more occurences of a word than the codebook\r\n",
        "message = 'secret secret secret secret'\r\n",
        "# functional test for this case\r\n",
        "check_for_more_occurences(message,fname)"
      ],
      "execution_count": null,
      "outputs": []
    },
    {
      "cell_type": "markdown",
      "metadata": {
        "id": "rQygIjo6AGXW"
      },
      "source": [
        "# Multinomial Sampler\r\n",
        "\r\n",
        "Write a function to return samples from the Multinomial distribution using pure Python (i.e., no third-party modules like Numpy, Scipy). "
      ]
    },
    {
      "cell_type": "markdown",
      "metadata": {
        "id": "hV5K58jOBJHU"
      },
      "source": [
        "**Validation Tests**"
      ]
    },
    {
      "cell_type": "code",
      "metadata": {
        "id": "dwyvSGAPBH7c"
      },
      "source": [
        "# validation check for multinomial_sample function\r\n",
        "assert isinstance(n, int)\r\n",
        "assert isinstance(p, list)\r\n",
        "assert sum(p) == 1\r\n",
        "assert all(isinstance(x, (int,float)) for x in p)\r\n",
        "#assert all(0<=x<=1 for y in p)  #change this to x?\r\n",
        "assert all(0<=x<=1 for x in p) \r\n",
        "assert isinstance(k, int)"
      ],
      "execution_count": null,
      "outputs": []
    },
    {
      "cell_type": "markdown",
      "metadata": {
        "id": "IZIvMtTpBfNu"
      },
      "source": [
        "**Functional Tests**"
      ]
    },
    {
      "cell_type": "code",
      "metadata": {
        "id": "F77MqK1jBg6I"
      },
      "source": [
        "import math\r\n",
        "import random\r\n",
        "def check_multinomial():\r\n",
        "    #calls multinomial_sample with 5 trials and 10 samples\r\n",
        "    result = multinomial_sample(5,[1/3,1/3,1/3],k=10)\r\n",
        "    #Checks if 10 samples were created and that each sample had 5 trials\r\n",
        "    assert len(result) == 10\r\n",
        "    assert all(sum(sample) == 5 for sample in result)\r\n",
        "\r\n",
        "    #calls multinomial_sample with 50 trials and 100 samples\r\n",
        "    result = multinomial_sample(50,[1/3,1/3,1/3],k=100)\r\n",
        "    #Checks if 100 samples were created and that each sample had 50 trials\r\n",
        "    assert len(result) == 100\r\n",
        "    assert all(sum(sample) == 50 for sample in result)\r\n",
        "\r\n",
        "    #Asserts that generated trial follows the distribution we specified with prob 1/3 for all\r\n",
        "    probabilityResult = multinomial_sample(100000,[1/3,1/3,1/3],k=1)[0]\r\n",
        "    expectedResult = 100000/3\r\n",
        "    assert all(abs(sample - expectedResult) < 500 for sample in probabilityResult)\r\n",
        "\r\n",
        "    #Asserts that generated trial follows the distribution we specified with prob 1/4 for all\r\n",
        "    probabilityResult = multinomial_sample(100000,[1/4,1/4,1/4,1/4],k=1)[0]\r\n",
        "    expectedResult = 100000/4\r\n",
        "    assert all(abs(sample - expectedResult) < 500 for sample in probabilityResult)\r\n",
        "\r\n",
        "    #Asserts that generated trial follows the distribution we specified with prob 1/2 for first and 1/4th for the rest\r\n",
        "    probabilityResult = multinomial_sample(100000,[1/2,1/4,1/4],k=1)[0]\r\n",
        "    expectedResult1 = 100000/2\r\n",
        "    expectedResult2 = 100000/4\r\n",
        "    assert abs(probabilityResult[0] - expectedResult1) < 500\r\n",
        "    assert abs(probabilityResult[1] - expectedResult2) < 500\r\n",
        "    assert abs(probabilityResult[2] - expectedResult2) < 500\r\n",
        "\r\n",
        "    #Asserts that a custom random list of probabilities are getting into the expected result in each item in the generatedP list\r\n",
        "    numProb = 10\r\n",
        "    generatedP = generateProbability(numProb)\r\n",
        "    probabilityResult = multinomial_sample(100000,generatedP,k=1)[0]\r\n",
        "\r\n",
        "\r\n",
        "    for index in range(len(probabilityResult)):\r\n",
        "        currentP = generatedP[index]\r\n",
        "        expectedResult = currentP * 100000\r\n",
        "        currentResult = probabilityResult[index]\r\n",
        "\r\n",
        "        assert abs(currentResult-expectedResult) < expectedResult * 0.5\r\n",
        "\r\n",
        "def generateProbability(n):\r\n",
        "    '''\r\n",
        "    Create custom list of random probabilities according to n\r\n",
        "    '''\r\n",
        "    returnArray = []\r\n",
        "    for i in range(n):\r\n",
        "        currentProb = random.randint(1, 10)/10\r\n",
        "        returnArray.append(currentProb)\r\n",
        "    \r\n",
        "    finalArray = [currentVal/sum(returnArray) for currentVal in returnArray]\r\n",
        "\r\n",
        "    return finalArray"
      ],
      "execution_count": null,
      "outputs": []
    }
  ]
}